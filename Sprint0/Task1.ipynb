{
 "cells": [
  {
   "cell_type": "markdown",
   "metadata": {},
   "source": [
    "<h1 style=\"color:DodgerBlue\">Основные понятия и концепции ООП</h1>\n",
    "\n",
    "Объектно-ориентированное программирование (ООП) в C# включает в себя несколько ключевых концепций, которые помогают структурировать программы и улучшить их читаемость, поддерживаемость и расширяемость. \n",
    "\n",
    "К ним относятся: \n",
    "1. Классы и объекты \n",
    "2. Инкапсуляция \n",
    "3. Насладование \n",
    "4. Полиморфизм \n",
    "5. Абстракция\n",
    "6. Композиция\n",
    "7. Агрегация\n",
    "\n",
    "Давайте рассмотрим каждую из этих концепций подробнее."
   ]
  },
  {
   "cell_type": "markdown",
   "metadata": {},
   "source": [
    "<h2 style=\"color:DodgerBlue\">1. Классы и Объекты</h2>\n",
    "Классы в C# - это шаблоны для создания объектов. Они определяют набор свойств (данных) и методов (действий), которые могут выполнять эти объекты. Объекты создаются по этим шаблонам и представляют собой экземпляры классов.\n",
    "\n",
    "<h3 style=\"color:DodgerBlue\">Пример кода:</h3>\n",
    "\n",
    "\n",
    "```csharp\n",
    "// Создание класса\n",
    "class Vehicle\n",
    "{\n",
    "\n",
    "}\n",
    "\n",
    "// Основная программа\n",
    "Vehicle Car = new Vehicle(); // Создание объекта\n",
    "```"
   ]
  },
  {
   "cell_type": "markdown",
   "metadata": {},
   "source": [
    "<h4 style=\"color:DodgerBlue\">Для проверки напишите пример кода ниже в блоке:</h4>\n",
    "\n",
    "----"
   ]
  },
  {
   "cell_type": "code",
   "execution_count": null,
   "metadata": {
    "dotnet_interactive": {
     "language": "csharp"
    },
    "polyglot_notebook": {
     "kernelName": "csharp"
    }
   },
   "outputs": [],
   "source": [
    "// Создание класса\n",
    "class Vehicle\n",
    "{\n",
    "\n",
    "}\n",
    "\n",
    "// Основная программа\n",
    "Vehicle Car = new Vehicle(); // Создание объекта"
   ]
  },
  {
   "cell_type": "markdown",
   "metadata": {},
   "source": [
    "<h4 style=\"color:Red\">Задание:</h4>\n",
    "\n",
    "----\n",
    "\n",
    "Ниже в блоке по примеру создайте класс Animal\n",
    "\n"
   ]
  },
  {
   "cell_type": "code",
   "execution_count": null,
   "metadata": {
    "dotnet_interactive": {
     "language": "csharp"
    },
    "polyglot_notebook": {
     "kernelName": "csharp"
    }
   },
   "outputs": [],
   "source": [
    "// Создание класса\n",
    "class Vehicle\n",
    "{\n",
    "\n",
    "}\n",
    "\n",
    "// Основная программа\n",
    "Vehicle Animal = new Vehicle(); // Создание объекта"
   ]
  },
  {
   "cell_type": "markdown",
   "metadata": {},
   "source": [
    "<h2 style=\"color:DodgerBlue\">2. Инкапсуляция</h2>\n",
    "\n",
    "Инкапсуляция - это процесс скрытия деталей реализации класса от пользователя. В C#, инкапсуляция достигается за счет использования модификаторов доступа (`public`, `private`, `protected`), а также свойства и методы для управления доступом к данным объекта.\n",
    "\n",
    "```csharp\n",
    "// Создание класса\n",
    "class Vehicle\n",
    "{\n",
    "    private string color; // Приватное поле\n",
    "\n",
    "    public string Color // Свойство с геттером и сеттером\n",
    "    {\n",
    "        get { return color; }\n",
    "        set { color = value; }\n",
    "    }\n",
    "\n",
    "    public void StartEngine() // Публичный метод\n",
    "    {\n",
    "        Console.WriteLine(\"Запустить двигатель...\");\n",
    "    }\n",
    "}\n",
    "\n",
    "// Основная программа\n",
    "Vehicle Car = new Vehicle(); // Создание объекта\n",
    "Car.Color = \"Красный\";\n",
    "Car.StartEngine();\n",
    "Console.WriteLine(Car.Color);\n",
    "\n",
    "```"
   ]
  },
  {
   "cell_type": "markdown",
   "metadata": {},
   "source": [
    "<h4 style=\"color:DodgerBlue\">Для проверки напишите пример кода ниже в блоке:</h4>\n",
    "\n",
    "----"
   ]
  },
  {
   "cell_type": "code",
   "execution_count": null,
   "metadata": {
    "dotnet_interactive": {
     "language": "csharp"
    },
    "polyglot_notebook": {
     "kernelName": "csharp"
    }
   },
   "outputs": [],
   "source": [
    "// Создание класса\n",
    "class Vehicle\n",
    "{\n",
    "    private string color; // Приватное поле\n",
    "\n",
    "    public string Color // Свойство с геттером и сеттером\n",
    "    {\n",
    "        get { return color; }\n",
    "        set { color = value; }\n",
    "    }\n",
    "\n",
    "    public void StartEngine() // Публичный метод\n",
    "    {\n",
    "        Console.WriteLine(\"Запустить двигатель...\");\n",
    "    }\n",
    "}\n",
    "\n",
    "// Основная программа\n",
    "Vehicle Car = new Vehicle(); // Создание объекта\n",
    "Car.Color = \"Красный\";\n",
    "Car.StartEngine();\n",
    "Console.WriteLine(Car.Color);\n"
   ]
  },
  {
   "cell_type": "markdown",
   "metadata": {},
   "source": [
    "<h4 style=\"color:Red\">Задание:</h4>\n",
    "\n",
    "----\n",
    "\n",
    "Ниже в блоке по примеру создайте класс Animal и реализуйте инкапсуляцию "
   ]
  },
  {
   "cell_type": "code",
   "execution_count": null,
   "metadata": {
    "dotnet_interactive": {
     "language": "csharp"
    },
    "polyglot_notebook": {
     "kernelName": "csharp"
    }
   },
   "outputs": [],
   "source": [
    "// Создание класса\n",
    "class Vehicle\n",
    "{\n",
    "    private string Animal; // Приватное поле\n",
    "\n",
    "    public string Pet // Свойство с геттером и сеттером\n",
    "    {\n",
    "        get { return Animal; }\n",
    "        set { Animal = value; }\n",
    "    }\n",
    "\n",
    "    public void StartEngine() // Публичный метод\n",
    "    {\n",
    "        Console.WriteLine(\"Домашнее животное\");\n",
    "    }\n",
    "}\n",
    "\n",
    "// Основная программа\n",
    "Vehicle Animal = new Vehicle(); // Создание объекта\n",
    "Animal.Pet = \"Кошка\";\n",
    "Animal.StartEngine();\n",
    "Console.WriteLine(Animal.Pet);"
   ]
  },
  {
   "cell_type": "markdown",
   "metadata": {},
   "source": [
    "<h2 style=\"color:DodgerBlue\">3. Наследование</h2>\n",
    "\n",
    "Наследование позволяет создавать новые классы на основе существующих, наследуя их свойства и методы. Это упрощает повторное использование кода и расширение функциональности.\n",
    "\n",
    "```csharp\n",
    "\n",
    "class Vehicle\n",
    "{\n",
    "    private string color; // Приватное поле\n",
    "\n",
    "    public string Color // Свойство с геттером и сеттером\n",
    "    {\n",
    "        get { return color; }\n",
    "        set { color = value; }\n",
    "    }\n",
    "    public void Move()\n",
    "    {\n",
    "        Console.WriteLine(\"Поехали...\");\n",
    "    }\n",
    "}\n",
    "\n",
    "class Car : Vehicle\n",
    "{\n",
    "\n",
    "}\n",
    "\n",
    "Vehicle myVehicle = new Vehicle(); // Создание объекта myVehicle\n",
    "Car myCar = new Car(); // Создание объекта myCar\n",
    "\n",
    "myCar.Color = \"Красный\";\n",
    "Console.WriteLine(myCar.Color);\n",
    "myCar.Move();\n",
    "\n",
    "myVehicle.Color = \"Синий\";\n",
    "Console.WriteLine(myVehicle.Color);\n",
    "myVehicle.Move();\n",
    "\n",
    "```"
   ]
  },
  {
   "cell_type": "markdown",
   "metadata": {},
   "source": [
    "<h4 style=\"color:DodgerBlue\">Для проверки напишите пример кода ниже в блоке:</h4>\n",
    "\n",
    "----"
   ]
  },
  {
   "cell_type": "code",
   "execution_count": null,
   "metadata": {
    "dotnet_interactive": {
     "language": "csharp"
    },
    "polyglot_notebook": {
     "kernelName": "csharp"
    }
   },
   "outputs": [],
   "source": [
    "class Vehicle\n",
    "{\n",
    "    private string color; // Приватное поле\n",
    "\n",
    "    public string Color // Свойство с геттером и сеттером\n",
    "    {\n",
    "        get { return color; }\n",
    "        set { color = value; }\n",
    "    }\n",
    "    public void Move()\n",
    "    {\n",
    "        Console.WriteLine(\"Поехали...\");\n",
    "    }\n",
    "}\n",
    "\n",
    "class Car : Vehicle\n",
    "{\n",
    "\n",
    "}\n",
    "\n",
    "Vehicle myVehicle = new Vehicle(); // Создание объекта myVehicle\n",
    "Car myCar = new Car(); // Создание объекта myCar\n",
    "\n",
    "myCar.Color = \"Красный\";\n",
    "Console.WriteLine(myCar.Color);\n",
    "myCar.Move();\n",
    "\n",
    "myVehicle.Color = \"Синий\";\n",
    "Console.WriteLine(myVehicle.Color);\n",
    "myVehicle.Move();\n"
   ]
  },
  {
   "cell_type": "markdown",
   "metadata": {},
   "source": [
    "<h4 style=\"color:Red\">Задание:</h4>\n",
    "\n",
    "----\n",
    "\n",
    "Ниже в блоке по примеру создайте класс Animal и реализуйте наследование "
   ]
  },
  {
   "cell_type": "code",
   "execution_count": null,
   "metadata": {
    "dotnet_interactive": {
     "language": "csharp"
    },
    "polyglot_notebook": {
     "kernelName": "csharp"
    }
   },
   "outputs": [],
   "source": [
    "// Основной класс Animal\n",
    "public class Animal\n",
    "{\n",
    "    public string Name { get; set; }\n",
    "    public int Age { get; set; }\n",
    "\n",
    "    public Animal(string name, int age)\n",
    "    {\n",
    "        Name = name;\n",
    "        Age = age;\n",
    "    }\n",
    "\n",
    "    public virtual void Speak()\n",
    "    {\n",
    "        Console.WriteLine(\"Animal makes a sound.\");\n",
    "    }\n",
    "}\n",
    "\n",
    "// Наследуемый класс Dog\n",
    "public class Dog : Animal\n",
    "{\n",
    "    public Dog(string name, int age) : base(name, age)\n",
    "    {\n",
    "    }\n",
    "\n",
    "    public override void Speak()\n",
    "    {\n",
    "        Console.WriteLine(\"Dog barks.\");\n",
    "    }\n",
    "}\n",
    "\n",
    "// Наследуемый класс Cat\n",
    "public class Cat : Animal\n",
    "{\n",
    "    public Cat(string name, int age) : base(name, age)\n",
    "    {\n",
    "    }\n",
    "\n",
    "    public override void Speak()\n",
    "    {\n",
    "        Console.WriteLine(\"Cat meows.\");\n",
    "    }\n",
    "}\n",
    "\n",
    "// Пример использования\n",
    "class Program\n",
    "{\n",
    "    static void Main(string[] args)\n",
    "    {\n",
    "        Animal myDog = new Dog(\"Buddy\", 3);\n",
    "        Animal myCat = new Cat(\"Whiskers\", 2);\n",
    "\n",
    "        myDog.Speak(); // Вывод: Dog barks.\n",
    "        myCat.Speak(); // Вывод: Cat meows.\n",
    "    }\n",
    "}"
   ]
  },
  {
   "cell_type": "markdown",
   "metadata": {},
   "source": [
    "<h2 style=\"color:DodgerBlue\">4. Полиморфизм</h2>\n",
    "\n",
    "Полиморфизм позволяет использовать один интерфейс для различных типов данных. В C# это достигается через переопределение методов и перегрузку методов и операторов.\n",
    "Метод Move() может быть переопределен в классе Car для выполнения специфической для автомобилей логики:\n",
    "\n",
    "```csharp\n",
    "class Vehicle\n",
    "{\n",
    "    public virtual void Move()\n",
    "    {\n",
    "        Console.WriteLine(\"Транспорт двигается\");\n",
    "    }\n",
    "}\n",
    "\n",
    "class Car : Vehicle\n",
    "{\n",
    "    public override void Move()\n",
    "    {\n",
    "        //base.Move(); // Вызов метода базового класса\n",
    "        Console.WriteLine(\"Автомобиль двигается\");\n",
    "    }\n",
    "}\n",
    "\n",
    "Vehicle myVehicle = new Vehicle(); // Создание объекта myVehicle\n",
    "Car myCar = new Car(); // Создание объекта myCar\n",
    "\n",
    "\n",
    "myVehicle.Move();\n",
    "myCar.Move();\n",
    "```"
   ]
  },
  {
   "cell_type": "markdown",
   "metadata": {},
   "source": [
    "<h4 style=\"color:DodgerBlue\">Для проверки напишите пример кода ниже в блоке:</h4>\n",
    "\n",
    "----"
   ]
  },
  {
   "cell_type": "code",
   "execution_count": null,
   "metadata": {
    "dotnet_interactive": {
     "language": "csharp"
    },
    "polyglot_notebook": {
     "kernelName": "csharp"
    }
   },
   "outputs": [],
   "source": [
    "class Vehicle\n",
    "{\n",
    "    public virtual void Move()\n",
    "    {\n",
    "        Console.WriteLine(\"Транспорт двигается\");\n",
    "    }\n",
    "}\n",
    "\n",
    "class Car : Vehicle\n",
    "{\n",
    "    public override void Move()\n",
    "    {\n",
    "        //base.Move(); // Вызов метода базового класса\n",
    "        Console.WriteLine(\"Автомобиль двигается\");\n",
    "    }\n",
    "}\n",
    "\n",
    "Vehicle myVehicle = new Vehicle(); // Создание объекта myVehicle\n",
    "Car myCar = new Car(); // Создание объекта myCar\n",
    "\n",
    "\n",
    "myVehicle.Move();\n",
    "myCar.Move();\n"
   ]
  },
  {
   "cell_type": "markdown",
   "metadata": {},
   "source": [
    "<h4 style=\"color:Red\">Задание:</h4>\n",
    "\n",
    "----\n",
    "\n",
    "Ниже в блоке по примеру создайте класс Animal и реализуйте полиморфизм "
   ]
  },
  {
   "cell_type": "code",
   "execution_count": null,
   "metadata": {
    "dotnet_interactive": {
     "language": "csharp"
    },
    "polyglot_notebook": {
     "kernelName": "csharp"
    }
   },
   "outputs": [],
   "source": [
    "// Базовый класс Animal\n",
    "public class Animal\n",
    "{\n",
    "    public string Name { get; set; }\n",
    "\n",
    "    public Animal(string name)\n",
    "    {\n",
    "        Name = name;\n",
    "    }\n",
    "\n",
    "    public virtual void Speak()\n",
    "    {\n",
    "        Console.WriteLine($\"{Name} делает звук.\");\n",
    "    }\n",
    "}\n",
    "\n",
    "// Класс Dog\n",
    "public class Dog : Animal\n",
    "{\n",
    "    public Dog(string name) : base(name)\n",
    "    {\n",
    "    }\n",
    "\n",
    "    public override void Speak()\n",
    "    {\n",
    "        Console.WriteLine($\"{Name} гавкает.\");\n",
    "    }\n",
    "}\n",
    "\n",
    "// Класс Cat\n",
    "public class Cat : Animal\n",
    "{\n",
    "    public Cat(string name) : base(name)\n",
    "    {\n",
    "    }\n",
    "\n",
    "    public override void Speak()\n",
    "    {\n",
    "        Console.WriteLine($\"{Name} мяукает.\");\n",
    "    }\n",
    "}\n",
    "\n",
    "// Класс Program для демонстрации полиморфизма\n",
    "class Program\n",
    "{\n",
    "    static void Main(string[] args)\n",
    "    {\n",
    "        // Создаем массив животных\n",
    "        Animal[] animals = new Animal[]\n",
    "        {\n",
    "            new Dog(\"Шарик\"),\n",
    "            new Cat(\"Мурка\")\n",
    "        };\n",
    "\n",
    "        // Демонстрация полиморфизма\n",
    "        foreach (Animal animal in animals)\n",
    "        {\n",
    "            animal.Speak(); // Метод Speak будет вызываться в зависимости от типа животного\n",
    "        }\n",
    "    }\n",
    "}"
   ]
  },
  {
   "cell_type": "markdown",
   "metadata": {},
   "source": [
    "<h2 style=\"color:DodgerBlue\">5. Абстракция</h2>\n",
    "\n",
    "Если бы у нас был класс ElectricCar, который должен иметь некоторые уникальные методы, мы могли бы определить абстрактный класс Car с абстрактными методами, обязательными для реализации в производных классах:\n",
    "\n",
    "```csharp\n",
    "\n",
    "abstract class Car\n",
    "{\n",
    "    public abstract void ChargeBattery();\n",
    "\n",
    "    public void Move()\n",
    "    {\n",
    "        Console.WriteLine(\"Поехали...\");\n",
    "    }\n",
    "}\n",
    "\n",
    "class ElectricCar : Car\n",
    "{\n",
    "    public override void ChargeBattery()\n",
    "    {\n",
    "        Console.WriteLine(\"Батарея заряжена...\");\n",
    "    }\n",
    "}\n",
    "\n",
    "ElectricCar myElectricCar = new ElectricCar(); // Создание объекта myElectricCar\n",
    "\n",
    "myElectricCar.ChargeBattery();\n",
    "myElectricCar.Move();\n",
    "\n",
    "```"
   ]
  },
  {
   "cell_type": "markdown",
   "metadata": {},
   "source": [
    "<h4 style=\"color:DodgerBlue\">Для проверки напишите пример кода ниже в блоке:</h4>\n",
    "\n",
    "----"
   ]
  },
  {
   "cell_type": "code",
   "execution_count": null,
   "metadata": {
    "dotnet_interactive": {
     "language": "csharp"
    },
    "polyglot_notebook": {
     "kernelName": "csharp"
    }
   },
   "outputs": [],
   "source": [
    "abstract class Car\n",
    "{\n",
    "    public abstract void ChargeBattery();\n",
    "\n",
    "    public void Move()\n",
    "    {\n",
    "        Console.WriteLine(\"Поехали...\");\n",
    "    }\n",
    "}\n",
    "\n",
    "class ElectricCar : Car\n",
    "{\n",
    "    public override void ChargeBattery()\n",
    "    {\n",
    "        Console.WriteLine(\"Батарея заряжена...\");\n",
    "    }\n",
    "}\n",
    "\n",
    "ElectricCar myElectricCar = new ElectricCar(); // Создание объекта myElectricCar\n",
    "\n",
    "myElectricCar.ChargeBattery();\n",
    "myElectricCar.Move();\n"
   ]
  },
  {
   "cell_type": "markdown",
   "metadata": {},
   "source": [
    "<h4 style=\"color:Red\">Задание:</h4>\n",
    "\n",
    "----\n",
    "\n",
    "Ниже в блоке по примеру создайте класс Animal и реализуйте абстракцию "
   ]
  },
  {
   "cell_type": "code",
   "execution_count": null,
   "metadata": {
    "dotnet_interactive": {
     "language": "csharp"
    },
    "polyglot_notebook": {
     "kernelName": "csharp"
    }
   },
   "outputs": [],
   "source": [
    "// Абстрактный класс Animal\n",
    "public abstract class Animal\n",
    "{\n",
    "    public string Name { get; set; }\n",
    "\n",
    "    public Animal(string name)\n",
    "    {\n",
    "        Name = name;\n",
    "    }\n",
    "\n",
    "    // Абстрактный метод Speak\n",
    "    public abstract void Speak();\n",
    "}\n",
    "\n",
    "// Класс Dog\n",
    "public class Dog : Animal\n",
    "{\n",
    "    public Dog(string name) : base(name)\n",
    "    {\n",
    "    }\n",
    "\n",
    "    public override void Speak()\n",
    "    {\n",
    "        Console.WriteLine($\"{Name} гавкает.\");\n",
    "    }\n",
    "}\n",
    "\n",
    "// Класс Cat\n",
    "public class Cat : Animal\n",
    "{\n",
    "    public Cat(string name) : base(name)\n",
    "    {\n",
    "    }\n",
    "\n",
    "    public override void Speak()\n",
    "    {\n",
    "        Console.WriteLine($\"{Name} мяукает.\");\n",
    "    }\n",
    "}\n",
    "\n",
    "// Класс Program для демонстрации абстракции\n",
    "class Program\n",
    "{\n",
    "    static void Main(string[] args)\n",
    "    {\n",
    "        // Создаем массив животных\n",
    "        Animal[] animals = new Animal[]\n",
    "        {\n",
    "            new Dog(\"Шарик\"),\n",
    "            new Cat(\"Мурка\")\n",
    "        };\n",
    "\n",
    "        // Вызов метода Speak для каждого животного\n",
    "        foreach (Animal animal in animals)\n",
    "        {\n",
    "            animal.Speak(); // Метод Speak реализован в каждом подклассе\n",
    "        }\n",
    "    }\n",
    "}"
   ]
  },
  {
   "cell_type": "markdown",
   "metadata": {},
   "source": [
    "<h2 style=\"color:DodgerBlue\">6. Ассоциация (Композиция и Агрегация)</h2>\n",
    "\n",
    "Композиция и агрегация являются двумя ключевыми концепциями в объектно-ориентированном программировании (ООП), включая C#. Они обе относятся к способам организации классов и их взаимодействия между собой, но имеют разные цели и способы реализации.\n",
    "\n",
    "<h3 style=\"color:DodgerBlue\">Композиция</h3>\n",
    "Композиция — это форма ассоциации, которая описывает \"часть-целое\" отношение между классами. В контексте композиции один класс является частью другого класса, и они работают вместе для достижения общей цели. Классы, участвующие в композиции, тесно связаны друг с другом, и если одна часть (подкласс) уничтожается или изменяется, это может повлиять на работу всей системы.\n",
    "\n",
    "\n",
    "<h3 style=\"color:DodgerBlue\">Пример кода:</h3>\n",
    "\n",
    "```csharp\n",
    "using System;\n",
    "\n",
    "public class Engine\n",
    "{\n",
    "    public void Start() => Console.WriteLine(\"Двигатель стартовал\");\n",
    "    public void Stop() => Console.WriteLine(\"Двигатель остановлен\");\n",
    "}\n",
    "\n",
    "public class Car\n",
    "{\n",
    "    private Engine engine;\n",
    "\n",
    "    public Car(Engine engine)\n",
    "    {\n",
    "        this.engine = engine;\n",
    "    }\n",
    "\n",
    "    public void Drive()\n",
    "    {\n",
    "        engine.Start();\n",
    "\n",
    "        // Дополнительная логика для движения автомобиля\n",
    "        Console.WriteLine(\"Автомобиль двигается\");\n",
    "\n",
    "        engine.Stop();\n",
    "    }\n",
    "}\n",
    "\n",
    "Engine myEngine = new Engine(); // Создание объекта myEngine\n",
    "Car myAuto = new Car(myEngine); // Создание объекта myAuto\n",
    "\n",
    "myAuto.Drive(); // Автомобиль начинает движение, используя двигатель\n",
    "\n",
    "```"
   ]
  },
  {
   "cell_type": "markdown",
   "metadata": {},
   "source": [
    "<h4 style=\"color:DodgerBlue\">Для проверки напишите пример кода ниже в блоке:</h4>\n",
    "\n",
    "----"
   ]
  },
  {
   "cell_type": "code",
   "execution_count": null,
   "metadata": {
    "dotnet_interactive": {
     "language": "csharp"
    },
    "polyglot_notebook": {
     "kernelName": "csharp"
    }
   },
   "outputs": [],
   "source": [
    "using System;\n",
    "\n",
    "public class Engine\n",
    "{\n",
    "    public void Start() => Console.WriteLine(\"Двигатель стартовал\");\n",
    "    public void Stop() => Console.WriteLine(\"Двигатель остановлен\");\n",
    "}\n",
    "\n",
    "public class Car\n",
    "{\n",
    "    private Engine engine;\n",
    "\n",
    "    public Car(Engine engine)\n",
    "    {\n",
    "        this.engine = engine;\n",
    "    }\n",
    "\n",
    "    public void Drive()\n",
    "    {\n",
    "        engine.Start();\n",
    "\n",
    "        // Дополнительная логика для движения автомобиля\n",
    "        Console.WriteLine(\"Автомобиль двигается\");\n",
    "\n",
    "        engine.Stop();\n",
    "    }\n",
    "}\n",
    "\n",
    "Engine myEngine = new Engine(); // Создание объекта myEngine\n",
    "Car myAuto = new Car(myEngine); // Создание объекта myAuto\n",
    "\n",
    "myAuto.Drive(); // Автомобиль начинает движение, используя двигатель\n"
   ]
  },
  {
   "cell_type": "markdown",
   "metadata": {},
   "source": [
    "<h4 style=\"color:Red\">Задание:</h4>\n",
    "\n",
    "----\n",
    "\n",
    "Ниже в блоке по примеру создайте класс Animal и реализуйте композицию "
   ]
  },
  {
   "cell_type": "code",
   "execution_count": null,
   "metadata": {
    "dotnet_interactive": {
     "language": "csharp"
    },
    "polyglot_notebook": {
     "kernelName": "csharp"
    }
   },
   "outputs": [],
   "source": [
    "using System;\n",
    "// Класс Voice, который будет использоваться в классе Animal\n",
    "public class Voice\n",
    "{\n",
    "    public string Sound { get; set; }\n",
    "\n",
    "    public Voice(string sound)\n",
    "    {\n",
    "        Sound = sound;\n",
    "    }\n",
    "\n",
    "    public void MakeSound()\n",
    "    {\n",
    "        Console.WriteLine(Sound);\n",
    "    }\n",
    "}\n",
    "\n",
    "// Класс Animal использующий композицию\n",
    "public class Animal\n",
    "{\n",
    "    public string Name { get; set; }\n",
    "    private Voice _voice;\n",
    "\n",
    "    public Animal(string name, string sound)\n",
    "    {\n",
    "        Name = name;\n",
    "        _voice = new Voice(sound); // Создание объекта Voice внутри Animal\n",
    "    }\n",
    "\n",
    "    public void Speak()\n",
    "    {\n",
    "        Console.Write($\"{Name} говорит: \");\n",
    "        _voice.MakeSound(); // Использование метода MakeSound из класса Voice\n",
    "    }\n",
    "}\n",
    "\n",
    "// Класс Program для демонстрации композиции\n",
    "class Program\n",
    "{\n",
    "    static void Main(string[] args)\n",
    "    {\n",
    "        // Создаем животных\n",
    "        Animal dog = new Animal(\"Шарик\", \"гав\");\n",
    "        Animal cat = new Animal(\"Мурка\", \"мяу\");\n",
    "\n",
    "        // Вызываем метод Speak для каждого животного\n",
    "        dog.Speak();\n",
    "        cat.Speak();\n",
    "    }\n",
    "}"
   ]
  },
  {
   "cell_type": "markdown",
   "metadata": {},
   "source": [
    "<h2 style=\"color:DodgerBlue\">7. Ассоциация (Композиция и Агрегация)</h2>\n",
    "\n",
    "<h3 style=\"color:DodgerBlue\">Агрегация</h3>\n",
    "Агрегация — это еще одна форма ассоциации, которая также описывает отношения между классами, но с более слабой связностью. В агрегации один класс содержит другой класс как составную часть, но эти классы могут функционировать независимо друг от друга. Если одна часть агрегата уничтожается, это не обязательно влияет на остальную систему.\n",
    "\n",
    "Для реализации агрегации на примере классов `Car` (автомобиль) и `Driver` (водитель) с использованием абстрактного класса, мы можем определить базовый абстрактный класс `Vehicle` (Транспортное средство), который будет содержать общие характеристики для всех видов транспортных средств. Затем, мы определим классы `Car` и `Driver`, которые будут агрегироваться вместе, но будут независимы друг от друга.\n",
    "\n",
    "### Шаги для реализации:\n",
    "\n",
    "1. **Определение абстрактного класса `Vehicle`:** Этот класс будет служить базовым классом для всех транспортных средств, определяя общие свойства и методы.\n",
    "\n",
    "2. **Определение класса `Driver`:** Этот класс будет содержать информацию о водителе и методы, связанные с его действиями за рулем.\n",
    "\n",
    "3. **Определение класса `Car`:** Этот класс будет наследоваться от `Vehicle` и будет агрегировать `Driver`, но при этом будет независим от него.\n",
    "\n",
    "<h3 style=\"color:DodgerBlue\">Пример кода:</h3>\n",
    "\n",
    "```csharp\n",
    "\n",
    "using System;\n",
    "\n",
    "abstract class Vehicle\n",
    "{\n",
    "    public abstract void Drive();\n",
    "}\n",
    "\n",
    "class Car : Vehicle\n",
    "{\n",
    "    private Driver driver;\n",
    "\n",
    "    public Car(Driver driver)\n",
    "    {\n",
    "        this.driver = driver;\n",
    "    }\n",
    "\n",
    "    public override void Drive()\n",
    "    {\n",
    "        Console.WriteLine(\"Автомобиль движется...\");\n",
    "    }\n",
    "}\n",
    "\n",
    "class Driver\n",
    "{\n",
    "    public string Name { get; set; }\n",
    "\n",
    "    public Driver(string name)\n",
    "    {\n",
    "        Name = name;\n",
    "    }\n",
    "\n",
    "    public void Drive(Vehicle vehicle)\n",
    "    {\n",
    "        Console.WriteLine($\"{Name} управляет траспортом...\");\n",
    "        vehicle.Drive();\n",
    "    }\n",
    "}\n",
    "\n",
    "    Driver Igor = new Driver(\"Игорь\");\n",
    "    Car myCar = new Car(Igor); // Создаем автомобиль с водителем\n",
    "\n",
    "    myCar.Drive(); // Автомобиль начинает движение\n",
    "    Igor.Drive(myCar); // Водитель также может начать движение, используя автомобиль\n",
    "```\n",
    "\n",
    "### Объяснение:\n",
    "\n",
    "- **Абстрактный класс `Vehicle`:** Определяет базовые свойства и методы для всех транспортных средств. В данном случае, метод `Drive` является абстрактным, что требует его переопределения в производных классах.\n",
    "\n",
    "- **Класс `Car`:** Наследуется от `Vehicle` и добавляет специфичную для автомобиля логику. Он агрегирует `Driver`, но может существовать и функционировать независимо от него.\n",
    "\n",
    "- **Класс `Driver`:** Определяет водителя с его атрибутами и методом `Drive`, который позволяет водителю управлять любым транспортным средством, включая автомобиль.\n",
    "\n",
    "- **Объекты `Igor` и `myCar`:** Создаются экземпляры классов `Driver` и `Car`, демонстрируя агрегацию, где `Car` зависит от `Driver` для своего функционирования, но `Driver` может существовать и функционировать независимо от `Car`.\n",
    "\n",
    "Этот пример демонстрирует агрегацию, показывая, как классы могут взаимодействовать и зависеть друг от друга без формирования строгих отношений наследования или композиции.\n",
    "\n",
    "<h4 style=\"color:DodgerBlue\">Заключение</h4>\n",
    "\n",
    "Основное различие между композицией и агрегацией заключается в степени зависимости между классами:\n",
    "\n",
    "* Композиция подразумевает тесную связь, где одна часть не может существовать без другой.\n",
    "* Агрегация означает более слабую связь, где части могут существовать и функционировать независимо.\n",
    "\n",
    "Выбор между композицией и агрегацией зависит от конкретных требований к системе и степень зависимости между компонентами."
   ]
  },
  {
   "cell_type": "markdown",
   "metadata": {},
   "source": [
    "<h4 style=\"color:DodgerBlue\">Для проверки напишите пример кода ниже в блоке:</h4>\n",
    "\n",
    "----"
   ]
  },
  {
   "cell_type": "code",
   "execution_count": null,
   "metadata": {
    "dotnet_interactive": {
     "language": "csharp"
    },
    "polyglot_notebook": {
     "kernelName": "csharp"
    }
   },
   "outputs": [],
   "source": [
    "using System;\n",
    "\n",
    "abstract class Vehicle\n",
    "{\n",
    "    public abstract void Drive();\n",
    "}\n",
    "\n",
    "class Car : Vehicle\n",
    "{\n",
    "    private Driver driver;\n",
    "\n",
    "    public Car(Driver driver)\n",
    "    {\n",
    "        this.driver = driver;\n",
    "    }\n",
    "\n",
    "    public override void Drive()\n",
    "    {\n",
    "        Console.WriteLine(\"Автомобиль движется...\");\n",
    "    }\n",
    "}\n",
    "\n",
    "class Driver\n",
    "{\n",
    "    public string Name { get; set; }\n",
    "\n",
    "    public Driver(string name)\n",
    "    {\n",
    "        Name = name;\n",
    "    }\n",
    "\n",
    "    public void Drive(Vehicle vehicle)\n",
    "    {\n",
    "        Console.WriteLine($\"{Name} управляет траспортом...\");\n",
    "        vehicle.Drive();\n",
    "    }\n",
    "}\n",
    "\n",
    "    Driver Igor = new Driver(\"Игорь\");\n",
    "    Car myCar = new Car(Igor); // Создаем автомобиль с водителем\n",
    "\n",
    "    myCar.Drive(); // Автомобиль начинает движение\n",
    "    Igor.Drive(myCar); // Водитель также может начать движение, используя автомобиль\n"
   ]
  },
  {
   "cell_type": "markdown",
   "metadata": {},
   "source": [
    "<h4 style=\"color:Red\">Задание:</h4>\n",
    "\n",
    "----\n",
    "\n",
    "Ниже в блоке по примеру создайте класс Animal и реализуйте агрегацию "
   ]
  },
  {
   "cell_type": "code",
   "execution_count": null,
   "metadata": {
    "dotnet_interactive": {
     "language": "csharp"
    },
    "polyglot_notebook": {
     "kernelName": "csharp"
    }
   },
   "outputs": [],
   "source": [
    "using System;\n",
    "// Класс Habitat, представляющий местообитание\n",
    "public class Habitat\n",
    "{\n",
    "    public string Location { get; set; }\n",
    "\n",
    "    public Habitat(string location)\n",
    "    {\n",
    "        Location = location;\n",
    "    }\n",
    "\n",
    "    public void Describe()\n",
    "    {\n",
    "        Console.WriteLine($\"Это местообитание находится в: {Location}\");\n",
    "    }\n",
    "}\n",
    "\n",
    "// Класс Animal использующий агрегацию\n",
    "public class Animal\n",
    "{\n",
    "    public string Name { get; set; }\n",
    "    public Habitat Habitat { get; set; } // Ссылка на объект Habitat\n",
    "\n",
    "    public Animal(string name, Habitat habitat)\n",
    "    {\n",
    "        Name = name;\n",
    "        Habitat = habitat; // Устанавливаем ссылку на объект Habitat\n",
    "    }\n",
    "\n",
    "    public void Describe()\n",
    "    {\n",
    "        Console.WriteLine($\"Животное: {Name}\");\n",
    "        Habitat.Describe(); // Используем метод Describe из класса Habitat\n",
    "    }\n",
    "}\n",
    "\n",
    "// Класс Program для демонстрации агрегации\n",
    "class Program\n",
    "{\n",
    "    static void Main(string[] args)\n",
    "    {\n",
    "        // Создаем местообитание\n",
    "        Habitat forest = new Habitat(\"лес\");\n",
    "\n",
    "        // Создаем животных и связываем их с местообитанием\n",
    "        Animal deer = new Animal(\"Олень\", forest);\n",
    "        Animal fox = new Animal(\"Лиса\", forest);\n",
    "\n",
    "        // Вызываем метод Describe для каждого животного\n",
    "        deer.Describe();\n",
    "        fox.Describe();\n",
    "\n",
    "        // Изменяем местообитание\n",
    "        Habitat grassland = new Habitat(\"луг\");\n",
    "        fox.Habitat = grassland; // Меняем местообитание для лисы\n",
    "\n",
    "        Console.WriteLine(\"\\nПосле изменения местообитания лисы:\");\n",
    "        fox.Describe();\n",
    "    }\n",
    "}\n"
   ]
  }
 ],
 "metadata": {
  "kernelspec": {
   "display_name": ".NET (C#)",
   "language": "C#",
   "name": ".net-csharp"
  },
  "polyglot_notebook": {
   "kernelInfo": {
    "defaultKernelName": "csharp",
    "items": [
     {
      "aliases": [],
      "languageName": "csharp",
      "name": "csharp"
     }
    ]
   }
  }
 },
 "nbformat": 4,
 "nbformat_minor": 2
}
